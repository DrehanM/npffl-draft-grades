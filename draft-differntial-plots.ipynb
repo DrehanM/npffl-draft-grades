{
 "cells": [
  {
   "cell_type": "code",
   "execution_count": 1,
   "metadata": {},
   "outputs": [],
   "source": [
    "import json\n",
    "import matplotlib.pyplot as plt\n",
    "\n",
    "import ipywidgets as widgets\n",
    "from ipywidgets import interact, interact_manual\n",
    "import IPython.display\n",
    "from IPython.display import display, clear_output"
   ]
  },
  {
   "cell_type": "code",
   "execution_count": 2,
   "metadata": {},
   "outputs": [],
   "source": [
    "draft_json = json.load(open(\"data/scores\"))\n",
    "for team in draft_json:\n",
    "    for i, pick in enumerate(draft_json[team][\"picks\"]):\n",
    "        draft_json[team][\"Pick {}\".format(str(i+1))] = pick\n"
   ]
  },
  {
   "cell_type": "markdown",
   "metadata": {},
   "source": [
    "## What is being calculated\n",
    "A \"differential\" refers to the difference between the current positional rank for a player and the index at which the player was chosen for their position in the fantasy draft. Example: Justin Jefferson was the 6th WR chosen in the draft. But he currently ranks 3rd among WRs on Fantasy Points (half PPR). Therefore, his differential is 3 (6-3). So higher numbers are better. "
   ]
  },
  {
   "cell_type": "code",
   "execution_count": 3,
   "metadata": {},
   "outputs": [
    {
     "data": {
      "application/vnd.jupyter.widget-view+json": {
       "model_id": "0dbd907b988e47118f2fd6da4ea97276",
       "version_major": 2,
       "version_minor": 0
      },
      "text/plain": [
       "interactive(children=(Dropdown(description='Team:', options=('The Indian Diesel', 'Funding ScLaurin', 'Team Fr…"
      ]
     },
     "metadata": {},
     "output_type": "display_data"
    }
   ],
   "source": [
    "def render_by_picks(team_name, metric):\n",
    "    team_draft_info = draft_json[team_name]\n",
    "    data = {\"{} - {}\".format(key,team_draft_info[\"picks\"][int(key.split(\" \")[1])-1][\"player\"]): team_draft_info[\"picks\"][int(key.split(\" \")[1])-1][metric] for key in team_draft_info if \"Pick\" in key}\n",
    "\n",
    "    # creating the dataset\n",
    "    picks = list(data.keys())\n",
    "    diffs = list(data.values())\n",
    "\n",
    "    fig = plt.figure(figsize = (20, 10))\n",
    "\n",
    "    # creating the bar plot\n",
    "    plt.bar(picks, diffs, color ='maroon',\n",
    "            width = 0.4)\n",
    "\n",
    "    plt.xlabel(\"Pick\")\n",
    "    plt.xticks(rotation = 90, fontsize = 20) # Rotates X-Axis Ticks by 75-degrees\n",
    "    plt.ylabel(metric.replace(\"_\", \" \").upper())\n",
    "    plt.title(\"{} for Team {}\".format(metric.replace(\"_\", \" \").upper(), str(team_name)))\n",
    "    plt.show()\n",
    "    \n",
    "team_name = widgets.Dropdown(\n",
    "    options=draft_json.keys(),\n",
    "    value=list(draft_json.keys())[0],\n",
    "    description='Team:',\n",
    ")\n",
    "\n",
    "metric = widgets.Dropdown(\n",
    "    options=[\"differential\", \"current_position_rank\", \"draft_position_rank\"],\n",
    "    value=\"differential\",\n",
    "    description='Round:',\n",
    ")\n",
    "\n",
    "widgets.interact(render_by_picks, team_name=team_name, metric=metric);\n"
   ]
  },
  {
   "cell_type": "code",
   "execution_count": 4,
   "metadata": {},
   "outputs": [
    {
     "data": {
      "application/vnd.jupyter.widget-view+json": {
       "model_id": "e1fc44a748bd4d9786bcce95c511fe0d",
       "version_major": 2,
       "version_minor": 0
      },
      "text/plain": [
       "interactive(children=(Dropdown(description='Round:', options=(1, 2, 3, 4, 5, 6, 7, 8, 9, 10, 11, 12, 13, 14, 1…"
      ]
     },
     "metadata": {},
     "output_type": "display_data"
    }
   ],
   "source": [
    "def render_by_round(round_num, metric):\n",
    "    fig = plt.figure(figsize = (20, 10))\n",
    "\n",
    "    data = {\"{} - {}\".format(team, draft_json[team][\"picks\"][round_num-1][\"player\"]): draft_json[team][\"picks\"][round_num-1][metric] for team in draft_json.keys()}\n",
    "\n",
    "    # creating the dataset\n",
    "    teams = list(data.keys())\n",
    "    diffs = list(data.values())\n",
    "\n",
    "    plt.bar(teams, diffs,\n",
    "            width = 0.4)\n",
    "    \n",
    "    plt.xlabel(\"Team\")\n",
    "    plt.xticks(rotation = 90, fontsize = 20) # Rotates X-Axis Ticks by 90-degrees\n",
    "    plt.ylabel(metric.replace(\"_\", \" \").upper())\n",
    "    plt.title(\"{} for Round {}\".format(metric.replace(\"_\", \" \").upper(), str(round_num)))\n",
    "    plt.show()\n",
    "\n",
    "round_num = widgets.Dropdown(\n",
    "    options=range(1, 17),\n",
    "    value=1,\n",
    "    description='Round:',\n",
    ")\n",
    "\n",
    "metric = widgets.Dropdown(\n",
    "    options=[\"differential\", \"current_position_rank\", \"draft_position_rank\"],\n",
    "    value=\"differential\",\n",
    "    description='Round:',\n",
    ")\n",
    "\n",
    "widgets.interact(render_by_round, round_num=round_num, metric=metric);\n"
   ]
  },
  {
   "cell_type": "code",
   "execution_count": 5,
   "metadata": {},
   "outputs": [
    {
     "data": {
      "application/vnd.jupyter.widget-view+json": {
       "model_id": "3e0d58fe35ac422a87034f05734f888a",
       "version_major": 2,
       "version_minor": 0
      },
      "text/plain": [
       "interactive(children=(Dropdown(description='Aggregate:', options=('sum', 'avg', 'max', 'min', 'number of playe…"
      ]
     },
     "metadata": {},
     "output_type": "display_data"
    }
   ],
   "source": [
    "def render_aggregates(agg_name):\n",
    "    fig = plt.figure(figsize = (20, 10))\n",
    "\n",
    "    data = {team: draft_json[team][agg_name] for team in draft_json.keys()}\n",
    "\n",
    "    # creating the dataset\n",
    "    teams = list(data.keys())\n",
    "    agg_data = list(data.values())\n",
    "\n",
    "    plt.bar(teams, agg_data,\n",
    "            width = 0.4)\n",
    "    \n",
    "    plt.xlabel(\"Team\")\n",
    "    plt.xticks(rotation = 90, fontsize = 20) # Rotates X-Axis Ticks by 45-degrees\n",
    "    plt.ylabel(agg_name)\n",
    "    plt.title(\"Aggregated Value\")\n",
    "    plt.show()\n",
    "\n",
    "agg_name = widgets.Dropdown(\n",
    "    options=[col_name for col_name in draft_json[\"Team Mahaarachchi\"].keys() if \"Pick\" not in col_name],\n",
    "    value=\"sum\",\n",
    "    description='Aggregate:',\n",
    ")\n",
    "\n",
    "widgets.interact(render_aggregates, agg_name=agg_name);"
   ]
  },
  {
   "cell_type": "code",
   "execution_count": null,
   "metadata": {},
   "outputs": [],
   "source": []
  },
  {
   "cell_type": "code",
   "execution_count": null,
   "metadata": {},
   "outputs": [],
   "source": []
  },
  {
   "cell_type": "code",
   "execution_count": null,
   "metadata": {},
   "outputs": [],
   "source": []
  },
  {
   "cell_type": "code",
   "execution_count": null,
   "metadata": {},
   "outputs": [],
   "source": []
  }
 ],
 "metadata": {
  "kernelspec": {
   "display_name": "Python 3",
   "language": "python",
   "name": "python3"
  },
  "language_info": {
   "codemirror_mode": {
    "name": "ipython",
    "version": 3
   },
   "file_extension": ".py",
   "mimetype": "text/x-python",
   "name": "python",
   "nbconvert_exporter": "python",
   "pygments_lexer": "ipython3",
   "version": "3.7.4"
  }
 },
 "nbformat": 4,
 "nbformat_minor": 2
}
